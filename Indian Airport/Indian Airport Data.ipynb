{
 "cells": [
  {
   "cell_type": "markdown",
   "metadata": {},
   "source": [
    "# Airports in India\n",
    "\n",
    "\n",
    "List of airports in India, with latitude and longitude."
   ]
  },
  {
   "cell_type": "markdown",
   "metadata": {},
   "source": [
    "### Import Libraries"
   ]
  },
  {
   "cell_type": "code",
   "execution_count": 10,
   "metadata": {},
   "outputs": [],
   "source": [
    "import numpy as np\n",
    "\n",
    "import pandas as pd\n",
    "\n",
    "from keplergl import KeplerGl\n",
    "\n",
    "import matplotlib.pyplot as plt\n",
    "\n",
    "import seaborn as sns"
   ]
  },
  {
   "cell_type": "markdown",
   "metadata": {},
   "source": [
    "### Create a basemap"
   ]
  },
  {
   "cell_type": "code",
   "execution_count": 11,
   "metadata": {},
   "outputs": [
    {
     "name": "stdout",
     "output_type": "stream",
     "text": [
      "User Guide: https://github.com/keplergl/kepler.gl/blob/master/docs/keplergl-jupyter/user-guide.md\n"
     ]
    }
   ],
   "source": [
    "map = KeplerGl(height=900, width=800)"
   ]
  },
  {
   "cell_type": "markdown",
   "metadata": {},
   "source": [
    "### Get the Data"
   ]
  },
  {
   "cell_type": "code",
   "execution_count": 12,
   "metadata": {},
   "outputs": [],
   "source": [
    "df = pd.read_csv('Datasets/INDAirports.csv')"
   ]
  },
  {
   "cell_type": "markdown",
   "metadata": {},
   "source": [
    "### Ensure that the file is being read correctly and show Data"
   ]
  },
  {
   "cell_type": "code",
   "execution_count": 13,
   "metadata": {},
   "outputs": [
    {
     "data": {
      "text/html": [
       "<div>\n",
       "<style scoped>\n",
       "    .dataframe tbody tr th:only-of-type {\n",
       "        vertical-align: middle;\n",
       "    }\n",
       "\n",
       "    .dataframe tbody tr th {\n",
       "        vertical-align: top;\n",
       "    }\n",
       "\n",
       "    .dataframe thead th {\n",
       "        text-align: right;\n",
       "    }\n",
       "</style>\n",
       "<table border=\"1\" class=\"dataframe\">\n",
       "  <thead>\n",
       "    <tr style=\"text-align: right;\">\n",
       "      <th></th>\n",
       "      <th>Name</th>\n",
       "      <th>Type</th>\n",
       "      <th>Latitude</th>\n",
       "      <th>Longitude</th>\n",
       "      <th>Elevation_ft</th>\n",
       "      <th>Continent</th>\n",
       "      <th>ISO_Country</th>\n",
       "      <th>ISO_Region</th>\n",
       "      <th>Municipality</th>\n",
       "      <th>Scheduled_Service</th>\n",
       "      <th>GPS_Code</th>\n",
       "      <th>IATA_Code</th>\n",
       "    </tr>\n",
       "  </thead>\n",
       "  <tbody>\n",
       "    <tr>\n",
       "      <th>0</th>\n",
       "      <td>Indira Gandhi International Airport</td>\n",
       "      <td>large_airport</td>\n",
       "      <td>28.566500</td>\n",
       "      <td>77.103104</td>\n",
       "      <td>777.0</td>\n",
       "      <td>AS</td>\n",
       "      <td>IN</td>\n",
       "      <td>IN-DL</td>\n",
       "      <td>New Delhi</td>\n",
       "      <td>1</td>\n",
       "      <td>VIDP</td>\n",
       "      <td>DEL</td>\n",
       "    </tr>\n",
       "    <tr>\n",
       "      <th>1</th>\n",
       "      <td>Chhatrapati Shivaji International Airport</td>\n",
       "      <td>large_airport</td>\n",
       "      <td>19.088699</td>\n",
       "      <td>72.867897</td>\n",
       "      <td>39.0</td>\n",
       "      <td>AS</td>\n",
       "      <td>IN</td>\n",
       "      <td>IN-MM</td>\n",
       "      <td>Mumbai</td>\n",
       "      <td>1</td>\n",
       "      <td>VABB</td>\n",
       "      <td>BOM</td>\n",
       "    </tr>\n",
       "    <tr>\n",
       "      <th>2</th>\n",
       "      <td>Kempegowda International Airport</td>\n",
       "      <td>large_airport</td>\n",
       "      <td>13.197900</td>\n",
       "      <td>77.706299</td>\n",
       "      <td>3000.0</td>\n",
       "      <td>AS</td>\n",
       "      <td>IN</td>\n",
       "      <td>IN-KA</td>\n",
       "      <td>Bangalore</td>\n",
       "      <td>1</td>\n",
       "      <td>VOBL</td>\n",
       "      <td>BLR</td>\n",
       "    </tr>\n",
       "    <tr>\n",
       "      <th>3</th>\n",
       "      <td>Chennai International Airport</td>\n",
       "      <td>large_airport</td>\n",
       "      <td>12.990005</td>\n",
       "      <td>80.169296</td>\n",
       "      <td>52.0</td>\n",
       "      <td>AS</td>\n",
       "      <td>IN</td>\n",
       "      <td>IN-TN</td>\n",
       "      <td>Chennai</td>\n",
       "      <td>1</td>\n",
       "      <td>VOMM</td>\n",
       "      <td>MAA</td>\n",
       "    </tr>\n",
       "    <tr>\n",
       "      <th>4</th>\n",
       "      <td>Dabolim Airport</td>\n",
       "      <td>large_airport</td>\n",
       "      <td>15.380800</td>\n",
       "      <td>73.831398</td>\n",
       "      <td>150.0</td>\n",
       "      <td>AS</td>\n",
       "      <td>IN</td>\n",
       "      <td>IN-GA</td>\n",
       "      <td>Vasco da Gama</td>\n",
       "      <td>1</td>\n",
       "      <td>VOGO</td>\n",
       "      <td>GOI</td>\n",
       "    </tr>\n",
       "  </tbody>\n",
       "</table>\n",
       "</div>"
      ],
      "text/plain": [
       "                                        Name           Type   Latitude  \\\n",
       "0        Indira Gandhi International Airport  large_airport  28.566500   \n",
       "1  Chhatrapati Shivaji International Airport  large_airport  19.088699   \n",
       "2           Kempegowda International Airport  large_airport  13.197900   \n",
       "3              Chennai International Airport  large_airport  12.990005   \n",
       "4                            Dabolim Airport  large_airport  15.380800   \n",
       "\n",
       "   Longitude  Elevation_ft Continent ISO_Country ISO_Region   Municipality  \\\n",
       "0  77.103104         777.0        AS          IN      IN-DL      New Delhi   \n",
       "1  72.867897          39.0        AS          IN      IN-MM         Mumbai   \n",
       "2  77.706299        3000.0        AS          IN      IN-KA      Bangalore   \n",
       "3  80.169296          52.0        AS          IN      IN-TN        Chennai   \n",
       "4  73.831398         150.0        AS          IN      IN-GA  Vasco da Gama   \n",
       "\n",
       "   Scheduled_Service GPS_Code IATA_Code  \n",
       "0                  1     VIDP       DEL  \n",
       "1                  1     VABB       BOM  \n",
       "2                  1     VOBL       BLR  \n",
       "3                  1     VOMM       MAA  \n",
       "4                  1     VOGO       GOI  "
      ]
     },
     "execution_count": 13,
     "metadata": {},
     "output_type": "execute_result"
    }
   ],
   "source": [
    "df.head()"
   ]
  },
  {
   "cell_type": "markdown",
   "metadata": {},
   "source": [
    "### Check Columns and Datatypes of Data"
   ]
  },
  {
   "cell_type": "code",
   "execution_count": 14,
   "metadata": {},
   "outputs": [
    {
     "name": "stdout",
     "output_type": "stream",
     "text": [
      "<class 'pandas.core.frame.DataFrame'>\n",
      "RangeIndex: 339 entries, 0 to 338\n",
      "Data columns (total 12 columns):\n",
      " #   Column             Non-Null Count  Dtype  \n",
      "---  ------             --------------  -----  \n",
      " 0   Name               339 non-null    object \n",
      " 1   Type               339 non-null    object \n",
      " 2   Latitude           339 non-null    float64\n",
      " 3   Longitude          339 non-null    float64\n",
      " 4   Elevation_ft       265 non-null    float64\n",
      " 5   Continent          339 non-null    object \n",
      " 6   ISO_Country        339 non-null    object \n",
      " 7   ISO_Region         339 non-null    object \n",
      " 8   Municipality       183 non-null    object \n",
      " 9   Scheduled_Service  339 non-null    int64  \n",
      " 10  GPS_Code           235 non-null    object \n",
      " 11  IATA_Code          137 non-null    object \n",
      "dtypes: float64(3), int64(1), object(8)\n",
      "memory usage: 31.9+ KB\n"
     ]
    }
   ],
   "source": [
    "df.info()"
   ]
  },
  {
   "cell_type": "markdown",
   "metadata": {},
   "source": [
    "### Total off Airport in India"
   ]
  },
  {
   "cell_type": "code",
   "execution_count": 15,
   "metadata": {},
   "outputs": [
    {
     "data": {
      "text/plain": [
       "<matplotlib.axes._subplots.AxesSubplot at 0x293f39a2608>"
      ]
     },
     "execution_count": 15,
     "metadata": {},
     "output_type": "execute_result"
    },
    {
     "data": {
      "image/png": "[encoded data removed]",
      "text/plain": [
       "<Figure size 900x432 with 1 Axes>"
      ]
     },
     "metadata": {
      "needs_background": "light"
     },
     "output_type": "display_data"
    }
   ],
   "source": [
    "fig=plt.gcf()\n",
    "fig.set_size_inches(12.5,6)\n",
    "sns.countplot(x='Type', data=df)"
   ]
  },
  {
   "cell_type": "markdown",
   "metadata": {},
   "source": [
    "### Check which Airport are open"
   ]
  },
  {
   "cell_type": "code",
   "execution_count": 16,
   "metadata": {},
   "outputs": [
    {
     "data": {
      "text/plain": [
       "<matplotlib.axes._subplots.AxesSubplot at 0x293f3a13848>"
      ]
     },
     "execution_count": 16,
     "metadata": {},
     "output_type": "execute_result"
    },
    {
     "data": {
      "image/png": "[encoded data removed]",
      "text/plain": [
       "<Figure size 720x432 with 1 Axes>"
      ]
     },
     "metadata": {
      "needs_background": "light"
     },
     "output_type": "display_data"
    }
   ],
   "source": [
    "fig=plt.gcf()\n",
    "fig.set_size_inches(10,6)\n",
    "sns.countplot(x='Scheduled_Service', data=df)"
   ]
  },
  {
   "cell_type": "markdown",
   "metadata": {},
   "source": [
    "### Add data to Kepler"
   ]
  },
  {
   "cell_type": "code",
   "execution_count": 17,
   "metadata": {},
   "outputs": [],
   "source": [
    "map.add_data(data=df, name='data_1')"
   ]
  },
  {
   "cell_type": "markdown",
   "metadata": {},
   "source": [
    "### Show Map"
   ]
  },
  {
   "cell_type": "code",
   "execution_count": 18,
   "metadata": {
    "scrolled": false
   },
   "outputs": [
    {
     "data": {
      "application/vnd.jupyter.widget-view+json": {
       "model_id": "f69cf14700c648aeb7043214a816fcb9",
       "version_major": 2,
       "version_minor": 0
      },
      "text/plain": [
       "KeplerGl(data={'data_1': {'index': [0, 1, 2, 3, 4, 5, 6, 7, 8, 9, 10, 11, 12, 13, 14, 15, 16, 17, 18, 19, 20, …"
      ]
     },
     "metadata": {},
     "output_type": "display_data"
    }
   ],
   "source": [
    "map"
   ]
  }
 ],
 "metadata": {
  "kernelspec": {
   "display_name": "Python 3",
   "language": "python",
   "name": "python3"
  },
  "language_info": {
   "codemirror_mode": {
    "name": "ipython",
    "version": 3
   },
   "file_extension": ".py",
   "mimetype": "text/x-python",
   "name": "python",
   "nbconvert_exporter": "python",
   "pygments_lexer": "ipython3",
   "version": "3.7.6"
  }
 },
 "nbformat": 4,
 "nbformat_minor": 4
}
